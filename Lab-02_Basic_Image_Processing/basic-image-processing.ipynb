{
 "cells": [
  {
   "cell_type": "markdown",
   "metadata": {},
   "source": [
    "# DIP Lab 2: Basic Image Processing"
   ]
  },
  {
   "cell_type": "markdown",
   "metadata": {},
   "source": [
    "### Task 1: Reading and Writing Images with PIL"
   ]
  },
  {
   "cell_type": "code",
   "execution_count": 1,
   "metadata": {},
   "outputs": [],
   "source": [
    "# Import libraries\n",
    "import PIL\n",
    "from PIL import Image\n",
    "\n",
    "# Open Image\n",
    "jpg_file = Image.open(\"lena_color.jpg\")\n",
    "jpg_file.show()"
   ]
  },
  {
   "cell_type": "code",
   "execution_count": 2,
   "metadata": {},
   "outputs": [
    {
     "name": "stdout",
     "output_type": "stream",
     "text": [
      "Image Format:  JPEG\n",
      "Image Size:  (512, 512)\n",
      "Image Mode:  RGB\n"
     ]
    }
   ],
   "source": [
    "print(\"Image Format: \", jpg_file.format)\n",
    "print(\"Image Size: \", jpg_file.size)\n",
    "print(\"Image Mode: \", jpg_file.mode)"
   ]
  },
  {
   "cell_type": "code",
   "execution_count": 3,
   "metadata": {},
   "outputs": [],
   "source": [
    "# Converting Files to JPEG\n",
    "import os, sys\n",
    "\n",
    "def convertToJPEG(image):\n",
    "    file,extension = os.path.splitext(image)\n",
    "    jpg_image =Image.open(image)\n",
    "    jpegfile = file + \".jpg\"\n",
    "    if image != jpegfile:\n",
    "        try:\n",
    "            jpg_image.save(jpegfile)\n",
    "            jpg_image.show()\n",
    "        except IOError:\n",
    "            print(\"Cannot Convert \",image)\n",
    "\n",
    "convertToJPEG(\"prague.ppm\")"
   ]
  },
  {
   "cell_type": "markdown",
   "metadata": {},
   "source": [
    "## Task 3: Play Around with Python"
   ]
  },
  {
   "cell_type": "code",
   "execution_count": 4,
   "metadata": {},
   "outputs": [],
   "source": [
    "# Convert RGB to GreyScale\n",
    "grey_img = Image.open(\"lena_color.jpg\").convert('L')\n",
    "grey_img.save(\"lena_grey.jpg\")\n",
    "grey_img.show()"
   ]
  },
  {
   "cell_type": "code",
   "execution_count": 5,
   "metadata": {},
   "outputs": [],
   "source": [
    "# Apply Smoothing Filter\n",
    "from PIL import ImageFilter\n",
    "\n",
    "smooth_img = Image.open(\"lena_color.jpg\").filter(ImageFilter.SMOOTH)\n",
    "smooth_img.save(\"lena_smooth.jpg\")\n",
    "smooth_img.show()"
   ]
  },
  {
   "cell_type": "code",
   "execution_count": 6,
   "metadata": {},
   "outputs": [],
   "source": [
    "# Apply Sharpening Filter\n",
    "sharp_img = Image.open(\"lena_color.jpg\").filter(ImageFilter.SHARPEN)\n",
    "sharp_img.save(\"lena_sharp.jpg\")\n",
    "sharp_img.show()"
   ]
  },
  {
   "cell_type": "code",
   "execution_count": 7,
   "metadata": {},
   "outputs": [
    {
     "data": {
      "text/plain": [
       "<Figure size 640x480 with 1 Axes>"
      ]
     },
     "metadata": {},
     "output_type": "display_data"
    }
   ],
   "source": [
    "# Convert to GreyScale without using package\n",
    "import numpy as np\n",
    "import matplotlib.pyplot as plt\n",
    "import matplotlib.image as mpimg\n",
    "\n",
    "img = mpimg.imread('lena_color.jpg')     \n",
    "gray_img = np.dot(img[...,:3], [0.299, 0.587, 0.114])  \n",
    "plt.imshow(gray_img, cmap = plt.get_cmap('gray'))\n",
    "plt.show()"
   ]
  }
 ],
 "metadata": {
  "kernelspec": {
   "display_name": "Python 3",
   "language": "python",
   "name": "python3"
  },
  "language_info": {
   "codemirror_mode": {
    "name": "ipython",
    "version": 3
   },
   "file_extension": ".py",
   "mimetype": "text/x-python",
   "name": "python",
   "nbconvert_exporter": "python",
   "pygments_lexer": "ipython3",
   "version": "3.6.5"
  }
 },
 "nbformat": 4,
 "nbformat_minor": 2
}
